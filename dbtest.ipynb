{
 "cells": [
  {
   "cell_type": "code",
   "execution_count": 47,
   "metadata": {},
   "outputs": [],
   "source": [
    "from rethinkdb import RethinkDB\n",
    "# import os\n",
    "from random import randint\n",
    "import mimesis\n",
    "from mimesis.enums import Gender\n",
    "\n",
    "r = RethinkDB()"
   ]
  },
  {
   "cell_type": "markdown",
   "metadata": {},
   "source": [
    "## Working with demo DB"
   ]
  },
  {
   "cell_type": "markdown",
   "metadata": {},
   "source": [
    "### Creating demo DB"
   ]
  },
  {
   "cell_type": "code",
   "execution_count": 48,
   "metadata": {},
   "outputs": [],
   "source": [
    "conn = r.connect()\n",
    "exist = False\n",
    "for i in r.db_list().run(conn):\n",
    "    if i == 'demo':\n",
    "        exist = True\n",
    "if not exist:\n",
    "    r.db_create('demo').run(conn)\n",
    "conn = r.connect(db=\"demo\")"
   ]
  },
  {
   "cell_type": "markdown",
   "metadata": {},
   "source": [
    "### Creating sample table and inserting values"
   ]
  },
  {
   "cell_type": "code",
   "execution_count": 49,
   "metadata": {},
   "outputs": [
    {
     "name": "stdout",
     "output_type": "stream",
     "text": [
      "rethinkdb.net.DefaultCursor (done streaming): \n",
      "[{'content': 'Dolor sit amet',\n",
      "  'id': '6a3aeb23-2e98-4c1f-80bb-f99ea7e9b6e8',\n",
      "  'title': 'Lorem ipsum'},\n",
      " {'content': 'Dolor sit amet',\n",
      "  'id': 'ae1c2f04-c453-4b33-8689-e5b462fd9096',\n",
      "  'title': 'Lorem ipsum'},\n",
      " {'color': 'blue',\n",
      "  'id': '8ab73f6a-e381-48a9-ae53-0f6972b0dd2a',\n",
      "  'shape': 'Dolor sit amet'},\n",
      " {'color': 'blue',\n",
      "  'id': 'f3fabbf3-2508-46a7-94e4-5369d23650f4',\n",
      "  'shape': 'Dolor sit amet'}]\n"
     ]
    }
   ],
   "source": [
    "exist = False\n",
    "for i in r.db_list().run(conn):\n",
    "    if i == 'demo':\n",
    "        exist = True\n",
    "if not exist:\n",
    "    r.table_create('sample', primary_key='id').run(conn)\n",
    "    \n",
    "r.table(\"sample\").insert({\n",
    "    \"title\": \"Lorem ipsum\",\n",
    "    \"content\": \"Dolor sit amet\"\n",
    "}).run(conn)    \n",
    "print (r.table('sample').run(conn))\n",
    "# You can see that primary key 'id' was auto-generated"
   ]
  },
  {
   "cell_type": "markdown",
   "metadata": {},
   "source": [
    "### Geospatial commands examples "
   ]
  },
  {
   "cell_type": "markdown",
   "metadata": {},
   "source": [
    "### We will try to insert new value in table 'sample' with completely different fields"
   ]
  },
  {
   "cell_type": "code",
   "execution_count": 50,
   "metadata": {},
   "outputs": [
    {
     "name": "stdout",
     "output_type": "stream",
     "text": [
      "rethinkdb.net.DefaultCursor (done streaming): \n",
      "[{'content': 'Dolor sit amet',\n",
      "  'id': '6a3aeb23-2e98-4c1f-80bb-f99ea7e9b6e8',\n",
      "  'title': 'Lorem ipsum'},\n",
      " {'content': 'Dolor sit amet',\n",
      "  'id': 'ae1c2f04-c453-4b33-8689-e5b462fd9096',\n",
      "  'title': 'Lorem ipsum'},\n",
      " {'color': 'blue',\n",
      "  'id': '7c5c140a-58c2-49fa-adbe-6722f1c9ffa5',\n",
      "  'shape': 'circle'},\n",
      " {'color': 'blue',\n",
      "  'id': '8ab73f6a-e381-48a9-ae53-0f6972b0dd2a',\n",
      "  'shape': 'Dolor sit amet'},\n",
      " {'color': 'blue',\n",
      "  'id': 'f3fabbf3-2508-46a7-94e4-5369d23650f4',\n",
      "  'shape': 'Dolor sit amet'}]\n"
     ]
    }
   ],
   "source": [
    "r.table(\"sample\").insert({\n",
    "    \"color\": \"blue\",\n",
    "    \"shape\": \"circle\"\n",
    "}).run(conn)\n",
    "print(r.table('sample').run(conn))"
   ]
  },
  {
   "cell_type": "markdown",
   "metadata": {},
   "source": [
    "### Geospatial commands example"
   ]
  },
  {
   "cell_type": "code",
   "execution_count": 51,
   "metadata": {},
   "outputs": [
    {
     "name": "stdout",
     "output_type": "stream",
     "text": [
      "7733.8894794419075\n"
     ]
    }
   ],
   "source": [
    "point1 = r.point(154.562564, 37.779388)\n",
    "point2 = r.point(-117.220406, 32.719464)\n",
    "print(r.distance(point1, point2, unit='km').run(conn))"
   ]
  },
  {
   "cell_type": "markdown",
   "metadata": {},
   "source": [
    "## Examples of work with main DB"
   ]
  },
  {
   "cell_type": "code",
   "execution_count": 52,
   "metadata": {},
   "outputs": [
    {
     "name": "stdout",
     "output_type": "stream",
     "text": [
      "Connection installed.\n"
     ]
    }
   ],
   "source": [
    "conn = r.connect(db=\"HMS\")\n",
    "print('Connection installed.')"
   ]
  },
  {
   "cell_type": "markdown",
   "metadata": {},
   "source": [
    "### List of tables in 'HMS' DB"
   ]
  },
  {
   "cell_type": "code",
   "execution_count": 53,
   "metadata": {
    "scrolled": true
   },
   "outputs": [
    {
     "name": "stdout",
     "output_type": "stream",
     "text": [
      "['Administrators', 'Ambulances', 'Departments', 'Doctors', 'Hospital', 'IllnessForms', 'IllnessHistories', 'Nurses', 'Paramedics', 'Patients', 'Stuff']\n"
     ]
    }
   ],
   "source": [
    "print(r.db('HMS').table_list().run(conn))"
   ]
  },
  {
   "cell_type": "markdown",
   "metadata": {},
   "source": [
    "### Manipulations with 'Doctors' table"
   ]
  },
  {
   "cell_type": "code",
   "execution_count": 54,
   "metadata": {
    "scrolled": true
   },
   "outputs": [
    {
     "name": "stdout",
     "output_type": "stream",
     "text": [
      "rethinkdb.net.DefaultCursor (done streaming): \n",
      "[{'SSN_ID': 8285985750577324,\n",
      "  'date_of_birth': '1970-09-22',\n",
      "  'doctor_id': 4,\n",
      "  'home_address': '910 Balceta Point',\n",
      "  'name': 'Edmundo Rivas',\n",
      "  'qualification ': 'Pediatric surgery',\n",
      "  'salary': 12000,\n",
      "  'sex': 'male',\n",
      "  'telephone': 89174309036},\n",
      " {'SSN_ID': 3097837436296817,\n",
      "  'date_of_birth': '1977-03-22',\n",
      "  'doctor_id': 3,\n",
      "  'home_address': '1006 Ivy Hill',\n",
      "  'name': 'Carson Ewing',\n",
      "  'qualification ': 'Thoracic surgery',\n",
      "  'salary': 12000,\n",
      "  'sex': 'male',\n",
      "  'telephone': 89608530557},\n",
      " {'SSN_ID': 8601208044784384,\n",
      "  'date_of_birth': '1970-03-24',\n",
      "  'doctor_id': 0,\n",
      "  'home_address': '830 Santa Ana Parade',\n",
      "  'name': 'Augustus Franklin',\n",
      "  'qualification ': 'Thoracic surgery',\n",
      "  'salary': 12000,\n",
      "  'sex': 'male',\n",
      "  'telephone': 89735653163},\n",
      " {'SSN_ID': 1597241025243178,\n",
      "  'date_of_birth': '1955-05-07',\n",
      "  'doctor_id': 1,\n",
      "  'home_address': '772 Clairview Private',\n",
      "  'name': 'Lamont Benson',\n",
      "  'qualification ': 'Pediatric surgery',\n",
      "  'salary': 12000,\n",
      "  'sex': 'male',\n",
      "  'telephone': 89347240402},\n",
      " {'SSN_ID': 6593603596629626,\n",
      "  'date_of_birth': '1951-06-07',\n",
      "  'doctor_id': 2,\n",
      "  'home_address': '193 San Jacinto Mews',\n",
      "  'name': 'Kelley Clayton',\n",
      "  'qualification ': 'Cardiac surgery',\n",
      "  'salary': 12000,\n",
      "  'sex': 'male',\n",
      "  'telephone': 89395021193}]\n"
     ]
    }
   ],
   "source": [
    "print(r.table(\"Doctors\").run(conn))"
   ]
  },
  {
   "cell_type": "code",
   "execution_count": 55,
   "metadata": {
    "scrolled": false
   },
   "outputs": [
    {
     "name": "stdout",
     "output_type": "stream",
     "text": [
      "rethinkdb.net.DefaultCursor (done streaming): \n",
      "[{'SSN_ID': 8285985750577324,\n",
      "  'date_of_birth': '1970-09-22',\n",
      "  'doctor_id': 4,\n",
      "  'home_address': '910 Balceta Point',\n",
      "  'name': 'Edmundo Rivas',\n",
      "  'qualification ': 'Pediatric surgery',\n",
      "  'salary': 12000,\n",
      "  'sex': 'male',\n",
      "  'telephone': 89174309036},\n",
      " {'SSN_ID': 1597241025243178,\n",
      "  'date_of_birth': '1955-05-07',\n",
      "  'doctor_id': 1,\n",
      "  'home_address': '772 Clairview Private',\n",
      "  'name': 'Lamont Benson',\n",
      "  'qualification ': 'Pediatric surgery',\n",
      "  'salary': 12000,\n",
      "  'sex': 'male',\n",
      "  'telephone': 89347240402}]\n"
     ]
    }
   ],
   "source": [
    "print(r.table('Doctors').filter({\"qualification \":  \"Pediatric surgery\"}).run(conn))"
   ]
  },
  {
   "cell_type": "markdown",
   "metadata": {},
   "source": [
    "### Amount of records in 'Patients' table"
   ]
  },
  {
   "cell_type": "code",
   "execution_count": 56,
   "metadata": {},
   "outputs": [
    {
     "data": {
      "text/plain": [
       "100"
      ]
     },
     "execution_count": 56,
     "metadata": {},
     "output_type": "execute_result"
    }
   ],
   "source": [
    "r.table('Patients').count().run(conn)"
   ]
  },
  {
   "cell_type": "markdown",
   "metadata": {},
   "source": [
    "### All women patients with their names starting with 'A-C'"
   ]
  },
  {
   "cell_type": "code",
   "execution_count": 57,
   "metadata": {
    "scrolled": true
   },
   "outputs": [
    {
     "data": {
      "text/plain": [
       "<rethinkdb.net.DefaultCursor object at 0x7fd1adab0d68 (done streaming): \n",
       "[{'SSN_ID': 6105738676170308,\n",
       "  'coordinates': [807.56, 919.27],\n",
       "  'date_of_birth': '1972-10-06',\n",
       "  'home_address': '1120 Mansell Plaza',\n",
       "  'illness_history_head_id': 30,\n",
       "  'name': 'Christinia Mcclain',\n",
       "  'patient_id': 30,\n",
       "  'sex': 'female',\n",
       "  'telephone': 89337887993},\n",
       " {'SSN_ID': 4137291608511207,\n",
       "  'coordinates': [1209.8, 1078.38],\n",
       "  'date_of_birth': '1961-06-25',\n",
       "  'home_address': '57 Rex Highway',\n",
       "  'illness_history_head_id': 95,\n",
       "  'name': 'Aleida Garcia',\n",
       "  'patient_id': 95,\n",
       "  'sex': 'female',\n",
       "  'telephone': 89220008859},\n",
       " {'SSN_ID': 4790548940838920,\n",
       "  'coordinates': [409.34, 786.33],\n",
       "  'date_of_birth': '1983-07-01',\n",
       "  'home_address': '1199 Quane Mews',\n",
       "  'illness_history_head_id': 53,\n",
       "  'name': 'Bernetta Talley',\n",
       "  'patient_id': 53,\n",
       "  'sex': 'female',\n",
       "  'telephone': 89975265160}]>"
      ]
     },
     "execution_count": 57,
     "metadata": {},
     "output_type": "execute_result"
    }
   ],
   "source": [
    "r.table('Patients').filter(lambda sex: sex['sex'] == 'female').filter(lambda name:\n",
    "    name['name'].match(\"^[A-C]\")\n",
    ").run(conn)"
   ]
  }
 ],
 "metadata": {
  "kernelspec": {
   "display_name": "Python 3",
   "language": "python",
   "name": "python3"
  },
  "language_info": {
   "codemirror_mode": {
    "name": "ipython",
    "version": 3
   },
   "file_extension": ".py",
   "mimetype": "text/x-python",
   "name": "python",
   "nbconvert_exporter": "python",
   "pygments_lexer": "ipython3",
   "version": "3.6.8"
  }
 },
 "nbformat": 4,
 "nbformat_minor": 2
}
